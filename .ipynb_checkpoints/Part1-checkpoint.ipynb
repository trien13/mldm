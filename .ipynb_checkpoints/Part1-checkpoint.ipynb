{
 "cells": [
  {
   "cell_type": "markdown",
   "id": "51eb0512-595c-4903-b240-e84e8cd46001",
   "metadata": {},
   "source": [
    "# PART 1\n",
    "# TRI NGUYEN (33660812)\n",
    "### I WORKED AND SUBMITTED ALONE"
   ]
  },
  {
   "cell_type": "code",
   "execution_count": 17,
   "id": "be7e6f61-1841-4a20-b03a-7d5818884fbd",
   "metadata": {},
   "outputs": [
    {
     "ename": "SyntaxError",
     "evalue": "invalid syntax. Perhaps you forgot a comma? (272559430.py, line 8)",
     "output_type": "error",
     "traceback": [
      "\u001b[1;36m  Cell \u001b[1;32mIn[17], line 8\u001b[1;36m\u001b[0m\n\u001b[1;33m    print(sonar_test.shape[])\u001b[0m\n\u001b[1;37m          ^\u001b[0m\n\u001b[1;31mSyntaxError\u001b[0m\u001b[1;31m:\u001b[0m invalid syntax. Perhaps you forgot a comma?\n"
     ]
    }
   ],
   "source": [
    "import pandas as pd\n",
    "import numpy \n",
    "import sklearn\n",
    "\n",
    "### import dataset\n",
    "sonar_train = pd.read_csv(\"sonar_train.csv\")\n",
    "sonar_test = pd.read_csv(\"sonar_test.csv\")\n",
    "print(sonar_test.shape)\n",
    "sonar_test.head()"
   ]
  },
  {
   "cell_type": "code",
   "execution_count": 11,
   "id": "65271df1-835a-4db2-b5f4-cf387a1f5dcd",
   "metadata": {},
   "outputs": [],
   "source": [
    "### Minkowski distance algo\n",
    "def minkowski_distance(p1, p2, q):\n",
    "    distance = 0\n",
    "    for a, b in zip(p1, p2):\n",
    "        distance += pow(abs(a-b), q)\n",
    "    return distance ** (1/q)\n",
    "\n",
    "### nearest neighbor algo\n",
    "def nearest_neighbor(train_x, train_y, test_x, q):\n",
    "    prediction = []\n",
    "\n",
    "    # loop through test sample\n",
    "    for test_sample in test_x:\n",
    "        distances  = []\n",
    "\n",
    "        # get all distances between train samples with current test sample with q params\n",
    "        for train_sample in train_x:\n",
    "            distance = minkowski_distance(test_sample, train_sample, q)\n",
    "            distances.append(distance)\n",
    "\n",
    "        # index of smallest value in distances array\n",
    "        nearest_index = numpy.argmin(distances)\n",
    "        # get label from last column\n",
    "        prediction.append(train_y[nearest_index][-1])\n",
    "\n",
    "    return prediction"
   ]
  },
  {
   "cell_type": "code",
   "execution_count": 12,
   "id": "e9cad716-e379-4b44-a5af-76fb6cdb79c5",
   "metadata": {
    "scrolled": true
   },
   "outputs": [
    {
     "name": "stdout",
     "output_type": "stream",
     "text": [
      "q=1 (Manhattan)\n",
      "accuracy: 0.8840579710144928, precision_score: 0.8536585365853658, recall_score: 0.9459459459459459, f1_score: 0.8974358974358975\n",
      "q=2 (Euclidean)\n",
      "accuracy: 0.8985507246376812, precision_score: 0.8571428571428571, recall_score: 0.972972972972973, f1_score: 0.9113924050632911\n"
     ]
    }
   ],
   "source": [
    "train_x = sonar_train.drop(columns=[\"Class\"]).values\n",
    "train_y = sonar_train[\"Class\"].values\n",
    "test_x = sonar_test.drop(columns=[\"Class\"]).values\n",
    "test_y = sonar_test[\"Class\"].values\n",
    "\n",
    "### print and return evaluation metric values of the prediciton\n",
    "def eval(true, predict):\n",
    "    accuracy = sklearn.metrics.accuracy_score(true, predict)\n",
    "    precision_score = sklearn.metrics.precision_score(true, predict, pos_label='M')\n",
    "    recall_score = sklearn.metrics.recall_score(true, predict, pos_label='M')\n",
    "    f1_score = sklearn.metrics.f1_score(true, predict, pos_label='M')\n",
    "    print(\"accuracy: {}, precision_score: {}, recall_score: {}, f1_score: {}\".format(accuracy, precision_score, recall_score, f1_score))    \n",
    "    # return accuracy, precision_score, recall_score, f1_score\n",
    "\n",
    "print(\"q=1 (Manhattan)\")\n",
    "prediction_q1 = nearest_neighbor(train_x, train_y, test_x, 1)\n",
    "eval(test_y, prediction_q1)\n",
    "\n",
    "print(\"q=2 (Euclidean)\")\n",
    "prediction_q2 = nearest_neighbor(train_x, train_y, test_x, 2)\n",
    "eval(test_y, prediction_q2)"
   ]
  },
  {
   "cell_type": "markdown",
   "id": "d37cca35-cd12-43a7-a14d-424b74d24c05",
   "metadata": {},
   "source": [
    "# Takeaway\n",
    "- Euclidean distance (q=2) performs slightly better than Manhattan distance (q=1) for this particular dataset "
   ]
  }
 ],
 "metadata": {
  "kernelspec": {
   "display_name": "newgpu",
   "language": "python",
   "name": "newgpu"
  },
  "language_info": {
   "codemirror_mode": {
    "name": "ipython",
    "version": 3
   },
   "file_extension": ".py",
   "mimetype": "text/x-python",
   "name": "python",
   "nbconvert_exporter": "python",
   "pygments_lexer": "ipython3",
   "version": "3.10.16"
  }
 },
 "nbformat": 4,
 "nbformat_minor": 5
}
