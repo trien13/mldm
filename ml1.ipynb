{
 "cells": [
  {
   "cell_type": "code",
   "execution_count": 141,
   "id": "a07acc14-8dc2-4e8a-981f-c3c47d5854b3",
   "metadata": {},
   "outputs": [],
   "source": [
    "import pandas as pd\n",
    "import matplotlib.pyplot as plt\n",
    "import sklearn\n",
    "from sklearn.model_selection import train_test_split\n",
    "from sklearn.preprocessing import StandardScaler"
   ]
  },
  {
   "cell_type": "markdown",
   "id": "aae9e350-8102-4960-9293-c2ce488441d7",
   "metadata": {},
   "source": [
    "# Overview\n",
    "\n",
    "- Buidling machine learning application to predict oral temperature 'aveOralF' and 'aveOralM'\n",
    "- Build model to classify fever and non-fever from the respective data"
   ]
  },
  {
   "cell_type": "markdown",
   "id": "3c9f7a07-e42c-43e0-bb42-dcbd2a29980c",
   "metadata": {
    "jp-MarkdownHeadingCollapsed": true
   },
   "source": [
    "# 1. Download and import the dataset "
   ]
  },
  {
   "cell_type": "code",
   "execution_count": 142,
   "id": "e6e631d0-ffc5-45d8-be04-a70daaf4c086",
   "metadata": {},
   "outputs": [
    {
     "name": "stdout",
     "output_type": "stream",
     "text": [
      "Requirement already satisfied: ucimlrepo in c:\\users\\chris\\.conda\\envs\\newgpu\\lib\\site-packages (0.0.7)\n",
      "Requirement already satisfied: pandas>=1.0.0 in c:\\users\\chris\\.conda\\envs\\newgpu\\lib\\site-packages (from ucimlrepo) (2.2.3)\n",
      "Requirement already satisfied: certifi>=2020.12.5 in c:\\users\\chris\\.conda\\envs\\newgpu\\lib\\site-packages (from ucimlrepo) (2025.1.31)\n",
      "Requirement already satisfied: numpy>=1.22.4 in c:\\users\\chris\\.conda\\envs\\newgpu\\lib\\site-packages (from pandas>=1.0.0->ucimlrepo) (1.26.4)\n",
      "Requirement already satisfied: python-dateutil>=2.8.2 in c:\\users\\chris\\.conda\\envs\\newgpu\\lib\\site-packages (from pandas>=1.0.0->ucimlrepo) (2.9.0.post0)\n",
      "Requirement already satisfied: pytz>=2020.1 in c:\\users\\chris\\.conda\\envs\\newgpu\\lib\\site-packages (from pandas>=1.0.0->ucimlrepo) (2024.1)\n",
      "Requirement already satisfied: tzdata>=2022.7 in c:\\users\\chris\\.conda\\envs\\newgpu\\lib\\site-packages (from pandas>=1.0.0->ucimlrepo) (2023.3)\n",
      "Requirement already satisfied: six>=1.5 in c:\\users\\chris\\.conda\\envs\\newgpu\\lib\\site-packages (from python-dateutil>=2.8.2->pandas>=1.0.0->ucimlrepo) (1.16.0)\n",
      "Note: you may need to restart the kernel to use updated packages.\n"
     ]
    }
   ],
   "source": [
    "pip install ucimlrepo"
   ]
  },
  {
   "cell_type": "code",
   "execution_count": 143,
   "id": "9c5e7bc4-60e8-4dbd-a64c-65e25ea92862",
   "metadata": {},
   "outputs": [
    {
     "name": "stdout",
     "output_type": "stream",
     "text": [
      "<class 'ucimlrepo.dotdict.dotdict'>\n"
     ]
    }
   ],
   "source": [
    "from ucimlrepo import fetch_ucirepo \n",
    "\n",
    "# fetch dataset \n",
    "infrared_thermography_temperature = fetch_ucirepo(id=925) \n",
    "print(type(infrared_thermography_temperature))"
   ]
  },
  {
   "cell_type": "code",
   "execution_count": 147,
   "id": "5da0a810-46c8-418b-a061-fe0aa26ad00c",
   "metadata": {
    "scrolled": true
   },
   "outputs": [
    {
     "name": "stdout",
     "output_type": "stream",
     "text": [
      "<class 'pandas.core.frame.DataFrame'>\n",
      "RangeIndex: 1020 entries, 0 to 1019\n",
      "Data columns (total 35 columns):\n",
      " #   Column       Non-Null Count  Dtype  \n",
      "---  ------       --------------  -----  \n",
      " 0   Gender       1020 non-null   object \n",
      " 1   Age          1020 non-null   object \n",
      " 2   Ethnicity    1020 non-null   object \n",
      " 3   T_atm        1020 non-null   float64\n",
      " 4   Humidity     1020 non-null   float64\n",
      " 5   Distance     1018 non-null   float64\n",
      " 6   T_offset1    1020 non-null   float64\n",
      " 7   Max1R13_1    1020 non-null   float64\n",
      " 8   Max1L13_1    1020 non-null   float64\n",
      " 9   aveAllR13_1  1020 non-null   float64\n",
      " 10  aveAllL13_1  1020 non-null   float64\n",
      " 11  T_RC1        1020 non-null   float64\n",
      " 12  T_RC_Dry1    1020 non-null   float64\n",
      " 13  T_RC_Wet1    1020 non-null   float64\n",
      " 14  T_RC_Max1    1020 non-null   float64\n",
      " 15  T_LC1        1020 non-null   float64\n",
      " 16  T_LC_Dry1    1020 non-null   float64\n",
      " 17  T_LC_Wet1    1020 non-null   float64\n",
      " 18  T_LC_Max1    1020 non-null   float64\n",
      " 19  RCC1         1020 non-null   float64\n",
      " 20  LCC1         1020 non-null   float64\n",
      " 21  canthiMax1   1020 non-null   float64\n",
      " 22  canthi4Max1  1020 non-null   float64\n",
      " 23  T_FHCC1      1020 non-null   float64\n",
      " 24  T_FHRC1      1020 non-null   float64\n",
      " 25  T_FHLC1      1020 non-null   float64\n",
      " 26  T_FHBC1      1020 non-null   float64\n",
      " 27  T_FHTC1      1020 non-null   float64\n",
      " 28  T_FH_Max1    1020 non-null   float64\n",
      " 29  T_FHC_Max1   1020 non-null   float64\n",
      " 30  T_Max1       1020 non-null   float64\n",
      " 31  T_OR1        1020 non-null   float64\n",
      " 32  T_OR_Max1    1020 non-null   float64\n",
      " 33  aveOralF     1020 non-null   float64\n",
      " 34  aveOralM     1020 non-null   float64\n",
      "dtypes: float64(32), object(3)\n",
      "memory usage: 279.0+ KB\n",
      "None\n",
      "             T_atm     Humidity     Distance    T_offset1    Max1R13_1  \\\n",
      "count  1020.000000  1020.000000  1018.000000  1020.000000  1020.000000   \n",
      "mean     24.115392    28.723039     0.729784     0.968648    35.596533   \n",
      "std       1.336338    13.071627     2.456486     0.362587     0.574888   \n",
      "min      20.200000     9.900000     0.540000    -0.590000    33.897500   \n",
      "25%      23.400000    17.600000     0.600000     0.772500    35.247500   \n",
      "50%      24.000000    26.300000     0.620000     0.940000    35.548750   \n",
      "75%      24.700000    36.200000     0.700000     1.140000    35.872500   \n",
      "max      29.100000    61.200000    79.000000     2.875000    38.405000   \n",
      "\n",
      "         Max1L13_1  aveAllR13_1  aveAllL13_1        T_RC1    T_RC_Dry1  ...  \\\n",
      "count  1020.000000  1020.000000  1020.000000  1020.000000  1020.000000  ...   \n",
      "mean     35.611474    34.888475    35.011345    35.659921    35.587143  ...   \n",
      "std       0.549760     0.718613     0.633836     0.553897     0.569278  ...   \n",
      "min      34.122500    31.770000    32.902500    33.985000    33.825000  ...   \n",
      "25%      35.271875    34.456250    34.651250    35.332500    35.249375  ...   \n",
      "50%      35.575000    34.915000    34.997500    35.602500    35.533750  ...   \n",
      "75%      35.883125    35.300000    35.363125    35.910625    35.855625  ...   \n",
      "max      38.042500    37.575000    37.680000    38.385000    38.380000  ...   \n",
      "\n",
      "           T_FHLC1      T_FHBC1      T_FHTC1    T_FH_Max1   T_FHC_Max1  \\\n",
      "count  1020.000000  1020.000000  1020.000000  1020.000000  1020.000000   \n",
      "mean     34.565340    34.487701    34.577293    35.421555    35.094144   \n",
      "std       0.678663     0.668065     0.728678     0.523477     0.576045   \n",
      "min      31.657500    31.280000    31.150000    33.407500    32.440000   \n",
      "25%      34.177500    34.096875    34.225000    35.116875    34.756458   \n",
      "50%      34.602500    34.512917    34.622500    35.391250    35.100000   \n",
      "75%      34.965000    34.878125    35.012500    35.675000    35.415000   \n",
      "max      37.165000    37.212500    37.367500    38.002500    37.632500   \n",
      "\n",
      "            T_Max1        T_OR1    T_OR_Max1     aveOralF     aveOralM  \n",
      "count  1020.000000  1020.000000  1020.000000  1020.000000  1020.000000  \n",
      "mean     36.084785    35.805519    35.838277    36.979216    37.028382  \n",
      "std       0.491821     0.559258     0.559316     0.386403     0.509502  \n",
      "min      34.892500    33.802500    33.835000    35.750000    35.540000  \n",
      "25%      35.775000    35.474375    35.500000    36.800000    36.777500  \n",
      "50%      36.027500    35.790000    35.825000    36.900000    36.940000  \n",
      "75%      36.280000    36.087500    36.120625    37.100000    37.140000  \n",
      "max      38.807500    38.417500    38.455000    39.600000    40.340000  \n",
      "\n",
      "[8 rows x 32 columns]\n",
      "Gender         0\n",
      "Age            0\n",
      "Ethnicity      0\n",
      "T_atm          0\n",
      "Humidity       0\n",
      "Distance       2\n",
      "T_offset1      0\n",
      "Max1R13_1      0\n",
      "Max1L13_1      0\n",
      "aveAllR13_1    0\n",
      "aveAllL13_1    0\n",
      "T_RC1          0\n",
      "T_RC_Dry1      0\n",
      "T_RC_Wet1      0\n",
      "T_RC_Max1      0\n",
      "T_LC1          0\n",
      "T_LC_Dry1      0\n",
      "T_LC_Wet1      0\n",
      "T_LC_Max1      0\n",
      "RCC1           0\n",
      "LCC1           0\n",
      "canthiMax1     0\n",
      "canthi4Max1    0\n",
      "T_FHCC1        0\n",
      "T_FHRC1        0\n",
      "T_FHLC1        0\n",
      "T_FHBC1        0\n",
      "T_FHTC1        0\n",
      "T_FH_Max1      0\n",
      "T_FHC_Max1     0\n",
      "T_Max1         0\n",
      "T_OR1          0\n",
      "T_OR_Max1      0\n",
      "aveOralF       0\n",
      "aveOralM       0\n",
      "dtype: int64\n"
     ]
    }
   ],
   "source": [
    "# extract features and targets from dotdict import  \n",
    "data = infrared_thermography_temperature.data.features\n",
    "\n",
    "target_aveOralF = infrared_thermography_temperature.data.targets['aveOralF']\n",
    "target_aveOralM = infrared_thermography_temperature.data.targets['aveOralM']\n",
    "\n",
    "# convert to pandas dataframe \n",
    "df = pd.DataFrame(data)\n",
    "df['aveOralF'] = target_aveOralF\n",
    "df['aveOralM'] = target_aveOralM\n",
    "\n",
    "df.head()\n",
    "print(df.info())\n",
    "print(df.describe())\n",
    "print(df.isnull().sum())"
   ]
  },
  {
   "cell_type": "markdown",
   "id": "6d52ff94-3d72-4b52-a48e-bd3711aac73b",
   "metadata": {
    "jp-MarkdownHeadingCollapsed": true
   },
   "source": [
    "# 2. Data Preprocessing\n",
    "\n",
    "- 2 missing value in 'Distance'\n",
    "- 'Gender', 'Age', 'Ethicity' is non numeric"
   ]
  },
  {
   "cell_type": "markdown",
   "id": "a5680fe5-be8d-470d-8260-4b16ddaef92c",
   "metadata": {},
   "source": [
    "## 2.1 Handle non-numeric entries "
   ]
  },
  {
   "cell_type": "code",
   "execution_count": null,
   "id": "302bef64-0876-4d9f-a45d-af60da26495e",
   "metadata": {
    "scrolled": true
   },
   "outputs": [],
   "source": [
    "# encoding all none float64 columns\n",
    "df = pd.get_dummies(df, columns=['Gender','Age','Ethnicity'], drop_first=True, dtype='float64')\n",
    "print(df.columns)\n",
    "print(df.info())"
   ]
  },
  {
   "cell_type": "markdown",
   "id": "09e9f73b-c9ee-4ebb-9a20-e8f5c94d22df",
   "metadata": {},
   "source": [
    "## 2.2 Handle missing values "
   ]
  },
  {
   "cell_type": "code",
   "execution_count": 149,
   "id": "410a9672-fed7-47b3-b279-3c18e8674269",
   "metadata": {},
   "outputs": [
    {
     "name": "stdout",
     "output_type": "stream",
     "text": [
      "0.7297838899803536\n",
      "0\n"
     ]
    }
   ],
   "source": [
    "# impute the missing values with mean \n",
    "distance_mean = df['Distance'].mean()\n",
    "print(distance_mean)\n",
    "df['Distance'] = df['Distance'].fillna(df['Distance'].mean())\n",
    "\n",
    "# check for all missing values again, in 'Distance' and df\n",
    "print(df['Distance'].isnull().sum())\n",
    "# print(df.isnull().sum())"
   ]
  },
  {
   "cell_type": "code",
   "execution_count": 154,
   "id": "b3da469e-2136-4b30-938b-9de7a89ad5f6",
   "metadata": {},
   "outputs": [
    {
     "data": {
      "image/png": "[encoded data removed]",
      "text/plain": [
       "<Figure size 1000x500 with 49 Axes>"
      ]
     },
     "metadata": {},
     "output_type": "display_data"
    }
   ],
   "source": [
    "# visualising the dataset\n",
    "df.hist(bins=50, figsize=(10, 5))\n",
    "plt.suptitle('Feature Distributions')\n",
    "plt.show()"
   ]
  },
  {
   "cell_type": "code",
   "execution_count": 155,
   "id": "3b47a09c-a798-421e-a15a-2fe83e860ad2",
   "metadata": {},
   "outputs": [
    {
     "name": "stdout",
     "output_type": "stream",
     "text": [
      "Index(['T_atm', 'Humidity', 'Distance', 'T_offset1', 'Max1R13_1', 'Max1L13_1',\n",
      "       'aveAllR13_1', 'aveAllL13_1', 'T_RC1', 'T_RC_Dry1', 'T_RC_Wet1',\n",
      "       'T_RC_Max1', 'T_LC1', 'T_LC_Dry1', 'T_LC_Wet1', 'T_LC_Max1', 'RCC1',\n",
      "       'LCC1', 'canthiMax1', 'canthi4Max1', 'T_FHCC1', 'T_FHRC1', 'T_FHLC1',\n",
      "       'T_FHBC1', 'T_FHTC1', 'T_FH_Max1', 'T_FHC_Max1', 'T_Max1', 'T_OR1',\n",
      "       'T_OR_Max1', 'aveOralF', 'aveOralM', 'Gender_Male', 'Age_21-25',\n",
      "       'Age_21-30', 'Age_26-30', 'Age_31-40', 'Age_41-50', 'Age_51-60',\n",
      "       'Age_>60', 'Ethnicity_Asian', 'Ethnicity_Black or African-American',\n",
      "       'Ethnicity_Hispanic/Latino', 'Ethnicity_Multiracial',\n",
      "       'Ethnicity_White'],\n",
      "      dtype='object')\n"
     ]
    }
   ],
   "source": [
    "print(df.columns)"
   ]
  },
  {
   "cell_type": "markdown",
   "id": "f16b436a-fbb8-42cd-a95f-61db054ac03a",
   "metadata": {},
   "source": [
    "# 3. Model & model parameters Selection"
   ]
  },
  {
   "cell_type": "markdown",
   "id": "460b4a01-92ee-4ffa-8ef9-9e77fc212e1e",
   "metadata": {},
   "source": [
    "## 3.1 Split train test data 80-20"
   ]
  },
  {
   "cell_type": "code",
   "execution_count": 188,
   "id": "181bb6be-d07d-4ac0-92fd-3b05acc0ba28",
   "metadata": {},
   "outputs": [
    {
     "name": "stdout",
     "output_type": "stream",
     "text": [
      "(816, 43) (816,) (204,)\n",
      "(816, 43) (816,) (204,)\n"
     ]
    }
   ],
   "source": [
    "x = df.drop(['aveOralF', 'aveOralM'], axis=1)\n",
    "\n",
    "y_aof = df['aveOralF'] # target aveOralF\n",
    "y_aom = df['aveOralM'] # target aveOralM\n",
    "\n",
    "x_train, x_test, y_train_f, y_test_f, y_train_m, y_test_m = train_test_split(x, y_aof, y_aom, test_size=0.2, random_state=42)\n",
    "\n",
    "# Check shapes\n",
    "print(x_train.shape, y_train_f.shape, y_test_f.shape)\n",
    "print(x_train.shape, y_train_m.shape, y_test_m.shape)"
   ]
  },
  {
   "cell_type": "markdown",
   "id": "f20773c0-fab6-4ac6-ba63-5b48a5fd4b1d",
   "metadata": {},
   "source": [
    "## 3.2 Models evaluation with cross_val_score \n",
    "- Obtaining MAE and MSE scores from 3 models, on 2 target set to determent the best model for the regression task\n",
    "- The 3 models are RandomForestRegressor, LinearRegression, DecisionTreeRegressor"
   ]
  },
  {
   "cell_type": "code",
   "execution_count": 192,
   "id": "3447057d-8442-4e3e-b57d-affbb42ad109",
   "metadata": {},
   "outputs": [],
   "source": [
    "from sklearn.ensemble import RandomForestRegressor\n",
    "from sklearn.linear_model import LinearRegression\n",
    "from sklearn.tree import DecisionTreeRegressor\n",
    "\n",
    "from sklearn.metrics import mean_absolute_error, mean_squared_error\n",
    "from sklearn.model_selection import cross_val_score"
   ]
  },
  {
   "cell_type": "code",
   "execution_count": 198,
   "id": "54f6ca21-5c8d-41d4-ab57-90a7f36b92da",
   "metadata": {},
   "outputs": [
    {
     "name": "stdout",
     "output_type": "stream",
     "text": [
      "--- MAE ON TARGET F\n",
      "random forest aveOralF:  0.17390059479275768\n",
      "linear regression aveOralF:  0.21087866002379094\n",
      "tree regression aveOralF:  0.2593629358072721\n",
      "--- MSE ON TARGET F\n",
      "random forest aveOralF:  0.05882919840453391\n",
      "linear regression aveOralF:  0.5326829946436074\n",
      "tree regression aveOralF:  0.12556868172976204\n",
      "--- MAE ON TARGET M\n",
      "random forest aveOralM:  0.19644964836151407\n",
      "linear regression aveOralM:  0.23750962389609365\n",
      "tree regression aveOralM:  0.27908499177016316\n",
      "--- MSE ON TARGET F\n",
      "random forest aveOralF:  0.06598988597560963\n",
      "linear regression aveOralF:  0.5406102371439074\n",
      "tree regression aveOralF:  0.12150884707466703\n"
     ]
    }
   ],
   "source": [
    "rf_f_score = cross_val_score(RandomForestRegressor(random_state=42), x_train, y_train_f, cv=5, scoring='neg_mean_absolute_error')\n",
    "lg_f_score = cross_val_score(LinearRegression(), x_train, y_train_f, cv=5, scoring='neg_mean_absolute_error')\n",
    "dt_f_score = cross_val_score(DecisionTreeRegressor(),x_train, y_train_f, cv=5, scoring='neg_mean_absolute_error')\n",
    "\n",
    "rf_f_score2 = cross_val_score(RandomForestRegressor(random_state=42), x_train, y_train_f, cv=5, scoring='neg_mean_squared_error')\n",
    "lg_f_score2 = cross_val_score(LinearRegression(), x_train, y_train_f, cv=5, scoring='neg_mean_squared_error')\n",
    "dt_f_score2 = cross_val_score(DecisionTreeRegressor(),x_train, y_train_f, cv=5, scoring='neg_mean_squared_error')\n",
    "    \n",
    "rf_m_score = cross_val_score(RandomForestRegressor(random_state=42), x_train, y_train_m, cv=5, scoring='neg_mean_absolute_error')\n",
    "lg_m_score = cross_val_score(LinearRegression(), x_train, y_train_m, cv=5, scoring='neg_mean_absolute_error')\n",
    "dt_m_score = cross_val_score(DecisionTreeRegressor(),x_train, y_train_m, cv=5, scoring='neg_mean_absolute_error')\n",
    "\n",
    "rf_m_score2 = cross_val_score(RandomForestRegressor(random_state=42), x_train, y_train_m, cv=5, scoring='neg_mean_squared_error')\n",
    "lg_m_score2 = cross_val_score(LinearRegression(), x_train, y_train_m, cv=5, scoring='neg_mean_squared_error')\n",
    "dt_m_score2 = cross_val_score(DecisionTreeRegressor(),x_train, y_train_m, cv=5, scoring='neg_mean_squared_error')\n",
    "# cross-validation results\n",
    "print(\"--- MAE ON TARGET F\")\n",
    "print(\"random forest aveOralF: \", -rf_f_score.mean())\n",
    "print(\"linear regression aveOralF: \", -lg_f_score.mean())\n",
    "print(\"tree regression aveOralF: \", -dt_f_score.mean())\n",
    "print(\"--- MSE ON TARGET F\")\n",
    "print(\"random forest aveOralF: \", -rf_f_score2.mean())\n",
    "print(\"linear regression aveOralF: \", -lg_f_score2.mean())\n",
    "print(\"tree regression aveOralF: \", -dt_f_score2.mean())\n",
    "print(\"--- MAE ON TARGET M\")\n",
    "print(\"random forest aveOralM: \", -rf_m_score.mean())\n",
    "print(\"linear regression aveOralM: \", -lg_m_score.mean())\n",
    "print(\"tree regression aveOralM: \", -dt_m_score.mean())\n",
    "print(\"--- MSE ON TARGET F\")\n",
    "print(\"random forest aveOralF: \", -rf_m_score2.mean())\n",
    "print(\"linear regression aveOralF: \", -lg_m_score2.mean())\n",
    "print(\"tree regression aveOralF: \", -dt_m_score2.mean())"
   ]
  },
  {
   "cell_type": "markdown",
   "id": "2627efb5-2f28-4baa-9b2c-42b6fa373475",
   "metadata": {},
   "source": [
    "- for both targets, the Random Forest Regressor model performs the best (lowest MAE and MSE score)"
   ]
  },
  {
   "cell_type": "markdown",
   "id": "7dec29d4-69c3-4bd2-bb82-688ab7cfd398",
   "metadata": {},
   "source": [
    "## 3.3 Hyperparameter tuning with the chosen model Random Forest Regressor \n",
    "- using GridSearchCV to find the best performing parameters set for the chosen model "
   ]
  },
  {
   "cell_type": "code",
   "execution_count": 200,
   "id": "813b938f-7566-4ed1-9acb-1b6c91d10de4",
   "metadata": {},
   "outputs": [],
   "source": [
    "from sklearn.model_selection import GridSearchCV"
   ]
  },
  {
   "cell_type": "code",
   "execution_count": 219,
   "id": "2e71f6dc-e0bd-47a8-becc-c9a6c95c7dd0",
   "metadata": {},
   "outputs": [],
   "source": [
    "param_grid = {\n",
    "    'n_estimators': [50, 100, 200, 500],  \n",
    "    'max_depth': [None, 10, 20, 30],  \n",
    "    'min_samples_leaf': [1, 2, 4],  \n",
    "    'min_samples_split': [2, 5, 10], \n",
    "    'max_features': ['sqrt', 'log2'], \n",
    "    'bootstrap': [True, False] \n",
    "}\n",
    "\n",
    "grid_search = GridSearchCV(estimator=RandomForestRegressor(random_state=42), \n",
    "                        param_grid=param_grid, \n",
    "                        cv=5, \n",
    "                        n_jobs=-1,  \n",
    "                        verbose=0, \n",
    "                        scoring='neg_mean_absolute_error')"
   ]
  },
  {
   "cell_type": "code",
   "execution_count": 240,
   "id": "a656979e-71d6-4cde-ac39-391e426d1e25",
   "metadata": {},
   "outputs": [
    {
     "name": "stdout",
     "output_type": "stream",
     "text": [
      "best params:  {'bootstrap': True, 'max_depth': 20, 'max_features': 'log2', 'min_samples_leaf': 1, 'min_samples_split': 5, 'n_estimators': 200}\n",
      "Best mae:  -0.1695221930996861\n"
     ]
    }
   ],
   "source": [
    "grid_search.fit(x_train, y_train_f)\n",
    "print(\"best params: \", grid_search.best_params_)\n",
    "print(\"Best mae: \", grid_search.best_score_)\n",
    "\n",
    "# EXTRACT MODEL (aveOralF)\n",
    "best_rf_aof = grid_search.best_estimator_"
   ]
  },
  {
   "cell_type": "code",
   "execution_count": 256,
   "id": "bc953a5b-ee7a-4258-a2af-6fbe10250558",
   "metadata": {},
   "outputs": [
    {
     "name": "stdout",
     "output_type": "stream",
     "text": [
      "best params:  {'bootstrap': False, 'max_depth': 10, 'max_features': 'sqrt', 'min_samples_leaf': 2, 'min_samples_split': 5, 'n_estimators': 200}\n",
      "Best mae:  -0.19844579673899815\n"
     ]
    }
   ],
   "source": [
    "grid_search.fit(x_train, y_train_m)\n",
    "print(\"best params: \", grid_search.best_params_)\n",
    "print(\"Best mae: \", grid_search.best_score_)\n",
    "\n",
    "# EXTRACT MODEL (aveOralM)\n",
    "best_rf_aom = grid_search.best_estimator_"
   ]
  },
  {
   "cell_type": "markdown",
   "id": "7e4582e6-e68f-48cf-a1f5-2d73e35eee70",
   "metadata": {},
   "source": [
    "## 3.4.1 Train, predict and evaluate model for 'aveOralF'"
   ]
  },
  {
   "cell_type": "code",
   "execution_count": 274,
   "id": "01f00523-6167-4024-a2cd-d4d8a38ec080",
   "metadata": {},
   "outputs": [
    {
     "name": "stdout",
     "output_type": "stream",
     "text": [
      "{'bootstrap': True, 'ccp_alpha': 0.0, 'criterion': 'squared_error', 'max_depth': 20, 'max_features': 'log2', 'max_leaf_nodes': None, 'max_samples': None, 'min_impurity_decrease': 0.0, 'min_samples_leaf': 1, 'min_samples_split': 5, 'min_weight_fraction_leaf': 0.0, 'monotonic_cst': None, 'n_estimators': 200, 'n_jobs': None, 'oob_score': False, 'random_state': 42, 'verbose': 0, 'warm_start': False}\n",
      "---------------------------------------------\n",
      "random forest on aveOralF MAE: 0.16994641337452812\n",
      "random forest on aveOralF MSE: 0.05426645936780824\n"
     ]
    }
   ],
   "source": [
    "print(best_rf_aof.get_params())\n",
    "print('---------------------------------------------')\n",
    "best_rf_aof.fit(x_train, y_train_f)\n",
    "y_predict_f = best_rf_aof.predict(x_test)\n",
    "\n",
    "mae = mean_absolute_error(y_test_f, y_predict_f)\n",
    "mse = mean_squared_error(y_test_f, y_predict_f)\n",
    "print(\"random forest on aveOralF MAE: \" + str(mae))\n",
    "print(\"random forest on aveOralF MSE: \" + str(mse))"
   ]
  },
  {
   "cell_type": "markdown",
   "id": "fdff6e18-3262-4166-886a-bee2a7ea68b8",
   "metadata": {},
   "source": [
    "## 3.5.2 Train, predict and evaluate model for 'aveOralM'"
   ]
  },
  {
   "cell_type": "code",
   "execution_count": 276,
   "id": "9bda8239-9183-47bb-883a-3006b5a1f76e",
   "metadata": {},
   "outputs": [
    {
     "name": "stdout",
     "output_type": "stream",
     "text": [
      "{'bootstrap': False, 'ccp_alpha': 0.0, 'criterion': 'squared_error', 'max_depth': 10, 'max_features': 'sqrt', 'max_leaf_nodes': None, 'max_samples': None, 'min_impurity_decrease': 0.0, 'min_samples_leaf': 2, 'min_samples_split': 5, 'min_weight_fraction_leaf': 0.0, 'monotonic_cst': None, 'n_estimators': 200, 'n_jobs': None, 'oob_score': False, 'random_state': 42, 'verbose': 0, 'warm_start': False}\n",
      "---------------------------------------------\n",
      "random forest on aveOralM MAE: 0.17815196056176674\n",
      "random forest on aveOralM MSE: 0.054297877967004936\n"
     ]
    }
   ],
   "source": [
    "print(best_rf_aom.get_params())\n",
    "print('---------------------------------------------')\n",
    "best_rf_aom.fit(x_train, y_train_m)\n",
    "y_predict_f = best_rf_aof.predict(x_test)\n",
    "\n",
    "mae = mean_absolute_error(y_test_m, y_predict_m)\n",
    "mse = mean_squared_error(y_test_m, y_predict_m)\n",
    "print(\"random forest on aveOralM MAE: \" + str(mae))\n",
    "print(\"random forest on aveOralM MSE: \" + str(mse))"
   ]
  }
 ],
 "metadata": {
  "kernelspec": {
   "display_name": "newgpu",
   "language": "python",
   "name": "newgpu"
  },
  "language_info": {
   "codemirror_mode": {
    "name": "ipython",
    "version": 3
   },
   "file_extension": ".py",
   "mimetype": "text/x-python",
   "name": "python",
   "nbconvert_exporter": "python",
   "pygments_lexer": "ipython3",
   "version": "3.10.16"
  }
 },
 "nbformat": 4,
 "nbformat_minor": 5
}
